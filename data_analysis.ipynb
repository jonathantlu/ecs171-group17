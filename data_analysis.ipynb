{
 "cells": [
  {
   "cell_type": "code",
   "execution_count": 1,
   "id": "ff0d77d7",
   "metadata": {},
   "outputs": [
    {
     "name": "stdout",
     "output_type": "stream",
     "text": [
      "hi\n"
     ]
    }
   ],
   "source": [
    "import pandas as pd\n",
    "import numpy as np\n",
    "import seaborn as sns\n",
    "import matplotlib.pyplot as plt\n",
    "\n",
    "df = pd.read_csv(\"diabetes_binary_health_indicators_BRFSS2015.csv\")\n",
    "\n",
    "df = df[['Diabetes_binary',\n",
    "        'HighBP',\n",
    "        'CholCheck',\n",
    "        'BMI',\n",
    "        'Smoker',\n",
    "        'Stroke',\n",
    "        'HeartDiseaseorAttack',\n",
    "        'PhysActivity',\n",
    "        'Fruits',\n",
    "        'Veggies',\n",
    "        'HvyAlcoholConsump',\n",
    "        'AnyHealthcare',\n",
    "        'NoDocbcCost',\n",
    "        'GenHlth',\n",
    "        'MentHlth',\n",
    "        'PhysHlth',\n",
    "        'DiffWalk',\n",
    "        'Sex',\n",
    "        'Age',\n",
    "        'Education',\n",
    "        'Income',\n",
    "    ]]\n",
    "\n",
    "print(df.shape)\n",
    "df.head()"
   ]
  },
  {
   "cell_type": "code",
   "execution_count": null,
   "id": "fcce7d67",
   "metadata": {},
   "outputs": [],
   "source": []
  }
 ],
 "metadata": {
  "kernelspec": {
   "display_name": "Python 3 (ipykernel)",
   "language": "python",
   "name": "python3"
  },
  "language_info": {
   "codemirror_mode": {
    "name": "ipython",
    "version": 3
   },
   "file_extension": ".py",
   "mimetype": "text/x-python",
   "name": "python",
   "nbconvert_exporter": "python",
   "pygments_lexer": "ipython3",
   "version": "3.11.5"
  }
 },
 "nbformat": 4,
 "nbformat_minor": 5
}
